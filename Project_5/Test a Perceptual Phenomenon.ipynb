{
 "cells": [
  {
   "cell_type": "markdown",
   "metadata": {},
   "source": [
    "### Analyzing the Stroop Effect\n",
    "Perform the analysis in the space below. Remember to follow [the instructions](https://docs.google.com/document/d/1-OkpZLjG_kX9J6LIQ5IltsqMzVWjh36QpnP2RYpVdPU/pub?embedded=True) and review the [project rubric](https://review.udacity.com/#!/rubrics/71/view) before submitting. Once you've completed the analysis and write-up, download this file as a PDF or HTML file, upload that PDF/HTML into the workspace here (click on the orange Jupyter icon in the upper left then Upload), then use the Submit Project button at the bottom of this page. This will create a zip file containing both this .ipynb doc and the PDF/HTML doc that will be submitted for your project.\n",
    "\n",
    "\n",
    "(1) What is the independent variable? What is the dependent variable?"
   ]
  },
  {
   "cell_type": "markdown",
   "metadata": {},
   "source": [
    "**Independent Variable**: The congurent and incongurent words\n",
    "\n",
    "**Dependent Variable**: The time taken to name the colours in equally-sized lists"
   ]
  },
  {
   "cell_type": "markdown",
   "metadata": {},
   "source": [
    "(2) What is an appropriate set of hypotheses for this task? Specify your null and alternative hypotheses, and clearly define any notation used. Justify your choices."
   ]
  },
  {
   "cell_type": "markdown",
   "metadata": {},
   "source": [
    "Null Hypothesis $H_{0}$:  Average time taken to name the colors of incongurent words is less than congurent words\n",
    "\n",
    "Alternate Hypothesis $H_{1}$: Average time taken to name the colors of incongurent words is more than congurent words\n",
    "\n",
    "In order words,\n",
    "\n",
    "$H_{0}$: $𝜇_{incongurent}$ - $𝜇_{congurent}$ ≤ 0\n",
    "\n",
    "$H_{1}$: $𝜇_{incongurent}$ - $𝜇_{congurent}$ > 0\n",
    "\n",
    "We'll perform the two-sample t-test as it will help determine the average time taken by the participants in the two word conditions is significant or not. \n",
    "\n",
    "The assumptions of the paired t-test are as follows:\n",
    "1. The sample size is small (< 30).\n",
    "2. The sample is approximately normally distributed.\n",
    "3. The populations standard deviation is not known.\n",
    "4. The two samples are dependent since, it is being performed by the same participant. "
   ]
  },
  {
   "cell_type": "markdown",
   "metadata": {},
   "source": [
    "(3) Report some descriptive statistics regarding this dataset. Include at least one measure of central tendency and at least one measure of variability. The name of the data file is 'stroopdata.csv'."
   ]
  },
  {
   "cell_type": "code",
   "execution_count": 1,
   "metadata": {},
   "outputs": [
    {
     "data": {
      "text/html": [
       "<div>\n",
       "<style>\n",
       "    .dataframe thead tr:only-child th {\n",
       "        text-align: right;\n",
       "    }\n",
       "\n",
       "    .dataframe thead th {\n",
       "        text-align: left;\n",
       "    }\n",
       "\n",
       "    .dataframe tbody tr th {\n",
       "        vertical-align: top;\n",
       "    }\n",
       "</style>\n",
       "<table border=\"1\" class=\"dataframe\">\n",
       "  <thead>\n",
       "    <tr style=\"text-align: right;\">\n",
       "      <th></th>\n",
       "      <th>Congruent</th>\n",
       "      <th>Incongruent</th>\n",
       "    </tr>\n",
       "  </thead>\n",
       "  <tbody>\n",
       "    <tr>\n",
       "      <th>0</th>\n",
       "      <td>12.079</td>\n",
       "      <td>19.278</td>\n",
       "    </tr>\n",
       "    <tr>\n",
       "      <th>1</th>\n",
       "      <td>16.791</td>\n",
       "      <td>18.741</td>\n",
       "    </tr>\n",
       "    <tr>\n",
       "      <th>2</th>\n",
       "      <td>9.564</td>\n",
       "      <td>21.214</td>\n",
       "    </tr>\n",
       "    <tr>\n",
       "      <th>3</th>\n",
       "      <td>8.630</td>\n",
       "      <td>15.687</td>\n",
       "    </tr>\n",
       "    <tr>\n",
       "      <th>4</th>\n",
       "      <td>14.669</td>\n",
       "      <td>22.803</td>\n",
       "    </tr>\n",
       "  </tbody>\n",
       "</table>\n",
       "</div>"
      ],
      "text/plain": [
       "   Congruent  Incongruent\n",
       "0     12.079       19.278\n",
       "1     16.791       18.741\n",
       "2      9.564       21.214\n",
       "3      8.630       15.687\n",
       "4     14.669       22.803"
      ]
     },
     "execution_count": 1,
     "metadata": {},
     "output_type": "execute_result"
    }
   ],
   "source": [
    "import pandas as pd\n",
    "import matplotlib.pyplot as plt\n",
    "import seaborn as sns\n",
    "from scipy.stats import t\n",
    "import math\n",
    "%matplotlib inline\n",
    "\n",
    "df = pd.read_csv('stroopdata.csv')\n",
    "df.head()"
   ]
  },
  {
   "cell_type": "code",
   "execution_count": 2,
   "metadata": {},
   "outputs": [
    {
     "name": "stdout",
     "output_type": "stream",
     "text": [
      "The mean time taken by the participants in congruent and incongruent word conditions are: \n",
      "Congruent      14.051125\n",
      "Incongruent    22.015917\n",
      "dtype: float64\n",
      "\n",
      "The median time taken by the participants in congruent and incongruent word conditions are: \n",
      "Congruent      14.3565\n",
      "Incongruent    21.0175\n",
      "dtype: float64\n",
      "\n",
      "The standard of deviation for the time taken by the participants in congruent and incongruent word conditions are: \n",
      "Congruent      3.559358\n",
      "Incongruent    4.797057\n",
      "dtype: float64\n"
     ]
    }
   ],
   "source": [
    "print(\"The mean time taken by the participants in congruent and incongruent word conditions are: \\n{}\\n\".format(df.mean()))\n",
    "print(\"The median time taken by the participants in congruent and incongruent word conditions are: \\n{}\\n\".format(df.median()))\n",
    "print(\"The standard of deviation for the time taken by the participants in congruent and incongruent word conditions are: \\n{}\".format(df.std()))"
   ]
  },
  {
   "cell_type": "markdown",
   "metadata": {},
   "source": [
    "(4) Provide one or two visualizations that show the distribution of the sample data. Write one or two sentences noting what you observe about the plot or plots."
   ]
  },
  {
   "cell_type": "code",
   "execution_count": 3,
   "metadata": {},
   "outputs": [
    {
     "data": {
      "image/png": "[encoded data removed]",
      "text/plain": [
       "<matplotlib.figure.Figure at 0x7fc34e18f940>"
      ]
     },
     "metadata": {
      "needs_background": "light"
     },
     "output_type": "display_data"
    }
   ],
   "source": [
    "fig, axes = plt.subplots(1, 2)\n",
    "plt.subplots_adjust(left=0.125, bottom=0.1, right=1.9, top=0.9, wspace=1, hspace=1)\n",
    "\n",
    "#Congurent\n",
    "ax = sns.distplot(df.Congruent, ax=axes[0], color=\"blue\");\n",
    "ax.set_title(\"Distribution of Stroop Task (Congruent)\");\n",
    "ax.set(xlabel='Time Taken by the Participants', ylabel='Probability');\n",
    "ax.axvline(x=df.mean()[0], linewidth=\"2\", color='r');\n",
    "\n",
    "#Incongruent\n",
    "ax = sns.distplot(df.Incongruent, ax=axes[1], color=\"green\");\n",
    "ax.set_title(\"Distribution of Stroop Task (Incongruent)\");\n",
    "ax.set(xlabel='Time Taken by the Participants', ylabel='Probability');\n",
    "ax.axvline(x=df.mean()[1], linewidth=\"2\", color='r');"
   ]
  },
  {
   "cell_type": "markdown",
   "metadata": {},
   "source": [
    "In the congruent distribution chart, the distribution seems to be normally distributed being its mean lying at 14.0511. While in the incongruent distribution chart, the distribution seems to be positively skewed along with some outliers showing another bump in the distribution chart."
   ]
  },
  {
   "cell_type": "markdown",
   "metadata": {},
   "source": [
    "(5)  Now, perform the statistical test and report your results. What is your confidence level or Type I error associated with your test? What is your conclusion regarding the hypotheses you set up? Did the results match up with your expectations? **Hint:**  Think about what is being measured on each individual, and what statistic best captures how an individual reacts in each environment."
   ]
  },
  {
   "cell_type": "code",
   "execution_count": 4,
   "metadata": {},
   "outputs": [
    {
     "name": "stdout",
     "output_type": "stream",
     "text": [
      "t-critical: 1.7139\n",
      "Standard deviation for difference: 4.8648\n",
      "The calculated t-statistic is: 8.020751311833964\n"
     ]
    }
   ],
   "source": [
    "t_critical = round(t.ppf(.95, 23),4)\n",
    "df['Difference'] = df['Congruent'] - df['Incongruent']\n",
    "diff_std = round(df['Difference'].std(),4)\n",
    "\n",
    "t_statistic = (df.Incongruent.mean() - df.Congruent.mean())/(diff_std/math.sqrt(24))\n",
    "print(\"t-critical: {}\".format(t_critical))\n",
    "\n",
    "print(\"Standard deviation for difference: {}\".format(diff_std))\n",
    "\n",
    "print(\"The calculated t-statistic is: {}\".format(t_statistic))"
   ]
  },
  {
   "cell_type": "markdown",
   "metadata": {},
   "source": [
    "Confidence Interval: 95%\n",
    "\n",
    "Degree of Freedom: n-1 = 24-1 = 23\n",
    "\n",
    "Mean Differences = Mean of Incongruent - Mean of Congruent = 22.015917 - 14.051125 = 7.964792\n",
    "\n",
    "The t-critical is less than t-statistic. We reject the null hypothesis that the average time taken to name the colors of incongurent words is less than congurent words. \n",
    "\n",
    "The result matches to my expectation."
   ]
  },
  {
   "cell_type": "markdown",
   "metadata": {},
   "source": [
    "(6) Optional: What do you think is responsible for the effects observed? Can you think of an alternative or similar task that would result in a similar effect? Some research about the problem will be helpful for thinking about these two questions!"
   ]
  },
  {
   "cell_type": "markdown",
   "metadata": {},
   "source": [
    "--write answer here--"
   ]
  },
  {
   "cell_type": "markdown",
   "metadata": {},
   "source": [
    "### References\n",
    "\n",
    "1. https://seaborn.pydata.org/generated/seaborn.distplot.html"
   ]
  },
  {
   "cell_type": "code",
   "execution_count": null,
   "metadata": {},
   "outputs": [],
   "source": []
  }
 ],
 "metadata": {
  "kernelspec": {
   "display_name": "Python 3",
   "language": "python",
   "name": "python3"
  },
  "language_info": {
   "codemirror_mode": {
    "name": "ipython",
    "version": 3
   },
   "file_extension": ".py",
   "mimetype": "text/x-python",
   "name": "python",
   "nbconvert_exporter": "python",
   "pygments_lexer": "ipython3",
   "version": "3.6.3"
  }
 },
 "nbformat": 4,
 "nbformat_minor": 2
}
